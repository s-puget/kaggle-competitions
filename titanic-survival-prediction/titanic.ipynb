{
 "cells": [
  {
   "cell_type": "markdown",
   "id": "1f212a24",
   "metadata": {
    "papermill": {
     "duration": 0.005155,
     "end_time": "2024-12-04T09:30:09.907915",
     "exception": false,
     "start_time": "2024-12-04T09:30:09.902760",
     "status": "completed"
    },
    "tags": []
   },
   "source": [
    "## Imports"
   ]
  },
  {
   "cell_type": "code",
   "execution_count": 1,
   "id": "7446c9f3",
   "metadata": {
    "execution": {
     "iopub.execute_input": "2024-12-04T09:30:09.919335Z",
     "iopub.status.busy": "2024-12-04T09:30:09.918770Z",
     "iopub.status.idle": "2024-12-04T09:30:13.804778Z",
     "shell.execute_reply": "2024-12-04T09:30:13.803517Z"
    },
    "papermill": {
     "duration": 3.894862,
     "end_time": "2024-12-04T09:30:13.807458",
     "exception": false,
     "start_time": "2024-12-04T09:30:09.912596",
     "status": "completed"
    },
    "tags": []
   },
   "outputs": [],
   "source": [
    "import os\n",
    "\n",
    "import pandas as pd\n",
    "import numpy as np\n",
    "import matplotlib.pyplot as plt\n",
    "\n",
    "import seaborn as sns\n",
    "\n",
    "from sklearn.impute import SimpleImputer\n",
    "from sklearn.preprocessing import OneHotEncoder\n",
    "from sklearn.compose import ColumnTransformer\n",
    "from sklearn.pipeline import Pipeline\n",
    "from sklearn.ensemble import RandomForestClassifier\n",
    "from sklearn.model_selection import cross_val_score\n",
    "from sklearn.ensemble import StackingClassifier\n",
    "from sklearn.linear_model import LogisticRegression\n",
    "\n",
    "from xgboost import XGBClassifier"
   ]
  },
  {
   "cell_type": "code",
   "execution_count": 2,
   "id": "d164dc5d",
   "metadata": {
    "execution": {
     "iopub.execute_input": "2024-12-04T09:30:13.819543Z",
     "iopub.status.busy": "2024-12-04T09:30:13.818886Z",
     "iopub.status.idle": "2024-12-04T09:30:13.854157Z",
     "shell.execute_reply": "2024-12-04T09:30:13.853001Z"
    },
    "papermill": {
     "duration": 0.043864,
     "end_time": "2024-12-04T09:30:13.856603",
     "exception": false,
     "start_time": "2024-12-04T09:30:13.812739",
     "status": "completed"
    },
    "tags": []
   },
   "outputs": [],
   "source": [
    "train_df = pd.read_csv('/kaggle/input/titanic/train.csv')\n",
    "test_df = pd.read_csv('/kaggle/input/titanic/test.csv')"
   ]
  },
  {
   "cell_type": "markdown",
   "id": "6ff9b999",
   "metadata": {
    "papermill": {
     "duration": 0.004118,
     "end_time": "2024-12-04T09:30:13.865408",
     "exception": false,
     "start_time": "2024-12-04T09:30:13.861290",
     "status": "completed"
    },
    "tags": []
   },
   "source": [
    "## Feature engineering"
   ]
  },
  {
   "cell_type": "code",
   "execution_count": 3,
   "id": "31a6cdac",
   "metadata": {
    "execution": {
     "iopub.execute_input": "2024-12-04T09:30:13.876753Z",
     "iopub.status.busy": "2024-12-04T09:30:13.875702Z",
     "iopub.status.idle": "2024-12-04T09:30:13.890664Z",
     "shell.execute_reply": "2024-12-04T09:30:13.889384Z"
    },
    "papermill": {
     "duration": 0.023276,
     "end_time": "2024-12-04T09:30:13.893209",
     "exception": false,
     "start_time": "2024-12-04T09:30:13.869933",
     "status": "completed"
    },
    "tags": []
   },
   "outputs": [],
   "source": [
    "train_df.loc[train_df['Fare'] == 0, 'Fare'] = np.NaN\n",
    "test_df.loc[test_df['Fare'] == 0, 'Fare'] = np.NaN"
   ]
  },
  {
   "cell_type": "code",
   "execution_count": 4,
   "id": "04f3f7dd",
   "metadata": {
    "execution": {
     "iopub.execute_input": "2024-12-04T09:30:13.904487Z",
     "iopub.status.busy": "2024-12-04T09:30:13.903582Z",
     "iopub.status.idle": "2024-12-04T09:30:13.914469Z",
     "shell.execute_reply": "2024-12-04T09:30:13.913281Z"
    },
    "papermill": {
     "duration": 0.019303,
     "end_time": "2024-12-04T09:30:13.917130",
     "exception": false,
     "start_time": "2024-12-04T09:30:13.897827",
     "status": "completed"
    },
    "tags": []
   },
   "outputs": [],
   "source": [
    "train_df['Title'] = train_df['Name'].apply(lambda x: x.split(',')[1].split('.')[0].strip())\n",
    "test_df['Title'] = test_df['Name'].apply(lambda x: x.split(',')[1].split('.')[0].strip())"
   ]
  },
  {
   "cell_type": "code",
   "execution_count": 5,
   "id": "2d566ba0",
   "metadata": {
    "execution": {
     "iopub.execute_input": "2024-12-04T09:30:13.928164Z",
     "iopub.status.busy": "2024-12-04T09:30:13.927766Z",
     "iopub.status.idle": "2024-12-04T09:30:13.936587Z",
     "shell.execute_reply": "2024-12-04T09:30:13.935356Z"
    },
    "papermill": {
     "duration": 0.017401,
     "end_time": "2024-12-04T09:30:13.939081",
     "exception": false,
     "start_time": "2024-12-04T09:30:13.921680",
     "status": "completed"
    },
    "tags": []
   },
   "outputs": [],
   "source": [
    "train_df['Ticket_2letter'] = train_df['Ticket'].apply(lambda x: x[:2])\n",
    "test_df['Ticket_2letter'] = test_df['Ticket'].apply(lambda x: x[:2])"
   ]
  },
  {
   "cell_type": "code",
   "execution_count": 6,
   "id": "bcd7050b",
   "metadata": {
    "execution": {
     "iopub.execute_input": "2024-12-04T09:30:13.950996Z",
     "iopub.status.busy": "2024-12-04T09:30:13.950042Z",
     "iopub.status.idle": "2024-12-04T09:30:13.957855Z",
     "shell.execute_reply": "2024-12-04T09:30:13.956684Z"
    },
    "papermill": {
     "duration": 0.016053,
     "end_time": "2024-12-04T09:30:13.960160",
     "exception": false,
     "start_time": "2024-12-04T09:30:13.944107",
     "status": "completed"
    },
    "tags": []
   },
   "outputs": [],
   "source": [
    "train_df['Ticket_len'] = train_df['Ticket'].apply(lambda x: len(x))\n",
    "test_df['Ticket_len'] = test_df['Ticket'].apply(lambda x: len(x))"
   ]
  },
  {
   "cell_type": "code",
   "execution_count": 7,
   "id": "02a934c8",
   "metadata": {
    "execution": {
     "iopub.execute_input": "2024-12-04T09:30:13.971451Z",
     "iopub.status.busy": "2024-12-04T09:30:13.971012Z",
     "iopub.status.idle": "2024-12-04T09:30:13.979136Z",
     "shell.execute_reply": "2024-12-04T09:30:13.977881Z"
    },
    "papermill": {
     "duration": 0.016868,
     "end_time": "2024-12-04T09:30:13.981605",
     "exception": false,
     "start_time": "2024-12-04T09:30:13.964737",
     "status": "completed"
    },
    "tags": []
   },
   "outputs": [],
   "source": [
    "train_df['Cabin_num'] = train_df['Ticket'].apply(lambda x: len(x.split()))\n",
    "test_df['Cabin_num'] = test_df['Ticket'].apply(lambda x: len(x.split()))"
   ]
  },
  {
   "cell_type": "code",
   "execution_count": 8,
   "id": "56a1d9e7",
   "metadata": {
    "execution": {
     "iopub.execute_input": "2024-12-04T09:30:13.993768Z",
     "iopub.status.busy": "2024-12-04T09:30:13.993322Z",
     "iopub.status.idle": "2024-12-04T09:30:14.002675Z",
     "shell.execute_reply": "2024-12-04T09:30:14.001262Z"
    },
    "papermill": {
     "duration": 0.018699,
     "end_time": "2024-12-04T09:30:14.005738",
     "exception": false,
     "start_time": "2024-12-04T09:30:13.987039",
     "status": "completed"
    },
    "tags": []
   },
   "outputs": [],
   "source": [
    "train_df['Cabin_1letter'] = train_df['Ticket'].apply(lambda x: x[:1])\n",
    "test_df['Cabin_1letter'] = test_df['Ticket'].apply(lambda x: x[:1])"
   ]
  },
  {
   "cell_type": "code",
   "execution_count": 9,
   "id": "9bdaa58d",
   "metadata": {
    "execution": {
     "iopub.execute_input": "2024-12-04T09:30:14.016693Z",
     "iopub.status.busy": "2024-12-04T09:30:14.016271Z",
     "iopub.status.idle": "2024-12-04T09:30:14.024683Z",
     "shell.execute_reply": "2024-12-04T09:30:14.023278Z"
    },
    "papermill": {
     "duration": 0.016901,
     "end_time": "2024-12-04T09:30:14.027286",
     "exception": false,
     "start_time": "2024-12-04T09:30:14.010385",
     "status": "completed"
    },
    "tags": []
   },
   "outputs": [],
   "source": [
    "train_df['Fam_size'] = train_df['SibSp'] + train_df['Parch'] + 1\n",
    "test_df['Fam_size'] = test_df['SibSp'] + test_df['Parch'] + 1"
   ]
  },
  {
   "cell_type": "markdown",
   "id": "4315feed",
   "metadata": {
    "papermill": {
     "duration": 0.004624,
     "end_time": "2024-12-04T09:30:14.036576",
     "exception": false,
     "start_time": "2024-12-04T09:30:14.031952",
     "status": "completed"
    },
    "tags": []
   },
   "source": [
    "## RF model training"
   ]
  },
  {
   "cell_type": "code",
   "execution_count": 10,
   "id": "bbb4cdac",
   "metadata": {
    "execution": {
     "iopub.execute_input": "2024-12-04T09:30:14.050857Z",
     "iopub.status.busy": "2024-12-04T09:30:14.050431Z",
     "iopub.status.idle": "2024-12-04T09:30:14.067217Z",
     "shell.execute_reply": "2024-12-04T09:30:14.065633Z"
    },
    "papermill": {
     "duration": 0.026459,
     "end_time": "2024-12-04T09:30:14.070115",
     "exception": false,
     "start_time": "2024-12-04T09:30:14.043656",
     "status": "completed"
    },
    "tags": []
   },
   "outputs": [],
   "source": [
    "y = train_df['Survived']\n",
    "features = ['Pclass', 'Fare', 'Title', 'Embarked', 'Fam_size', 'Ticket_len', 'Ticket_2letter']\n",
    "X = train_df[features]"
   ]
  },
  {
   "cell_type": "code",
   "execution_count": 11,
   "id": "e2873e91",
   "metadata": {
    "execution": {
     "iopub.execute_input": "2024-12-04T09:30:14.081099Z",
     "iopub.status.busy": "2024-12-04T09:30:14.080690Z",
     "iopub.status.idle": "2024-12-04T09:30:24.587405Z",
     "shell.execute_reply": "2024-12-04T09:30:24.586014Z"
    },
    "papermill": {
     "duration": 10.515551,
     "end_time": "2024-12-04T09:30:24.590143",
     "exception": false,
     "start_time": "2024-12-04T09:30:14.074592",
     "status": "completed"
    },
    "tags": []
   },
   "outputs": [
    {
     "name": "stdout",
     "output_type": "stream",
     "text": [
      "Cross validation score: 0.818\n"
     ]
    }
   ],
   "source": [
    "numerical_cols = ['Fare']\n",
    "categorical_cols = ['Pclass', 'Title', 'Embarked', 'Fam_size', 'Ticket_len', 'Ticket_2letter']\n",
    "\n",
    "# Inputting numerical values with median\n",
    "numerical_transformer = SimpleImputer(strategy='median')\n",
    "\n",
    "# Inputting missing values with most frequent one for categorical data\n",
    "categorical_transformer = Pipeline(steps=[\n",
    "    ('imputer', SimpleImputer(strategy='most_frequent')),\n",
    "    ('onehot', OneHotEncoder(handle_unknown='ignore'))\n",
    "])\n",
    "\n",
    "# Bundle preprocessing for numerical and categorical data\n",
    "preprocessor = ColumnTransformer(\n",
    "    transformers=[\n",
    "        ('num', numerical_transformer, numerical_cols),\n",
    "        ('cat', categorical_transformer, categorical_cols)\n",
    "    ]\n",
    ")\n",
    "\n",
    "# Bundle preprocessing and modeling code\n",
    "titanic_pipeline = Pipeline(steps=[\n",
    "    ('preprocessor', preprocessor),\n",
    "    ('model', RandomForestClassifier(random_state=0, n_estimators=500, max_depth=5))\n",
    "])\n",
    "\n",
    "# Training\n",
    "titanic_pipeline.fit(X, y)\n",
    "\n",
    "print('Cross validation score: {:.3f}'.format(cross_val_score(titanic_pipeline, X, y, cv=10).mean()))"
   ]
  },
  {
   "cell_type": "code",
   "execution_count": 12,
   "id": "2fe87d6a",
   "metadata": {
    "execution": {
     "iopub.execute_input": "2024-12-04T09:30:24.601820Z",
     "iopub.status.busy": "2024-12-04T09:30:24.601395Z",
     "iopub.status.idle": "2024-12-04T09:30:24.608503Z",
     "shell.execute_reply": "2024-12-04T09:30:24.607237Z"
    },
    "papermill": {
     "duration": 0.015471,
     "end_time": "2024-12-04T09:30:24.610870",
     "exception": false,
     "start_time": "2024-12-04T09:30:24.595399",
     "status": "completed"
    },
    "tags": []
   },
   "outputs": [],
   "source": [
    "X_test = test_df[features]"
   ]
  },
  {
   "cell_type": "code",
   "execution_count": 13,
   "id": "6f9f2912",
   "metadata": {
    "execution": {
     "iopub.execute_input": "2024-12-04T09:30:24.622024Z",
     "iopub.status.busy": "2024-12-04T09:30:24.621118Z",
     "iopub.status.idle": "2024-12-04T09:30:24.682417Z",
     "shell.execute_reply": "2024-12-04T09:30:24.681096Z"
    },
    "papermill": {
     "duration": 0.069578,
     "end_time": "2024-12-04T09:30:24.685033",
     "exception": false,
     "start_time": "2024-12-04T09:30:24.615455",
     "status": "completed"
    },
    "tags": []
   },
   "outputs": [],
   "source": [
    "predictions = titanic_pipeline.predict(X_test)"
   ]
  },
  {
   "cell_type": "code",
   "execution_count": 14,
   "id": "153abea7",
   "metadata": {
    "execution": {
     "iopub.execute_input": "2024-12-04T09:30:24.696012Z",
     "iopub.status.busy": "2024-12-04T09:30:24.695584Z",
     "iopub.status.idle": "2024-12-04T09:30:24.703941Z",
     "shell.execute_reply": "2024-12-04T09:30:24.702996Z"
    },
    "papermill": {
     "duration": 0.016657,
     "end_time": "2024-12-04T09:30:24.706337",
     "exception": false,
     "start_time": "2024-12-04T09:30:24.689680",
     "status": "completed"
    },
    "tags": []
   },
   "outputs": [],
   "source": [
    "output = pd.DataFrame({'PassengerId': test_df.PassengerId, 'Survived': predictions})\n",
    "output.to_csv('submission.csv', index=False)"
   ]
  },
  {
   "cell_type": "markdown",
   "id": "75a79a31",
   "metadata": {
    "papermill": {
     "duration": 0.004091,
     "end_time": "2024-12-04T09:30:24.715113",
     "exception": false,
     "start_time": "2024-12-04T09:30:24.711022",
     "status": "completed"
    },
    "tags": []
   },
   "source": [
    "## XGBoost model training"
   ]
  },
  {
   "cell_type": "code",
   "execution_count": 15,
   "id": "1f6ab55a",
   "metadata": {
    "execution": {
     "iopub.execute_input": "2024-12-04T09:30:24.726393Z",
     "iopub.status.busy": "2024-12-04T09:30:24.725257Z",
     "iopub.status.idle": "2024-12-04T09:30:29.278175Z",
     "shell.execute_reply": "2024-12-04T09:30:29.277272Z"
    },
    "papermill": {
     "duration": 4.560915,
     "end_time": "2024-12-04T09:30:29.280408",
     "exception": false,
     "start_time": "2024-12-04T09:30:24.719493",
     "status": "completed"
    },
    "tags": []
   },
   "outputs": [
    {
     "name": "stdout",
     "output_type": "stream",
     "text": [
      "Cross validation score: 0.804\n"
     ]
    }
   ],
   "source": [
    "# Bundle preprocessing and modeling code\n",
    "titanic_pipeline_XGBoost = Pipeline(steps=[\n",
    "    ('preprocessor', preprocessor),\n",
    "    ('model', XGBClassifier(random_state=0, n_estimators=500, max_depth=5, use_label_encoder=False, eval_metric='logloss'))\n",
    "])\n",
    "\n",
    "# Training\n",
    "titanic_pipeline_XGBoost.fit(X, y)\n",
    "\n",
    "print('Cross validation score: {:.3f}'.format(cross_val_score(titanic_pipeline_XGBoost, X, y, cv=10).mean()))"
   ]
  },
  {
   "cell_type": "code",
   "execution_count": 16,
   "id": "6b08016b",
   "metadata": {
    "execution": {
     "iopub.execute_input": "2024-12-04T09:30:29.293731Z",
     "iopub.status.busy": "2024-12-04T09:30:29.293367Z",
     "iopub.status.idle": "2024-12-04T09:30:29.313199Z",
     "shell.execute_reply": "2024-12-04T09:30:29.312355Z"
    },
    "papermill": {
     "duration": 0.029997,
     "end_time": "2024-12-04T09:30:29.316233",
     "exception": false,
     "start_time": "2024-12-04T09:30:29.286236",
     "status": "completed"
    },
    "tags": []
   },
   "outputs": [],
   "source": [
    "predictions = titanic_pipeline_XGBoost.predict(X_test)"
   ]
  },
  {
   "cell_type": "code",
   "execution_count": 17,
   "id": "1e1916f0",
   "metadata": {
    "execution": {
     "iopub.execute_input": "2024-12-04T09:30:29.330228Z",
     "iopub.status.busy": "2024-12-04T09:30:29.329129Z",
     "iopub.status.idle": "2024-12-04T09:30:29.336949Z",
     "shell.execute_reply": "2024-12-04T09:30:29.335895Z"
    },
    "papermill": {
     "duration": 0.017257,
     "end_time": "2024-12-04T09:30:29.339430",
     "exception": false,
     "start_time": "2024-12-04T09:30:29.322173",
     "status": "completed"
    },
    "tags": []
   },
   "outputs": [],
   "source": [
    "output = pd.DataFrame({'PassengerId': test_df.PassengerId, 'Survived': predictions})\n",
    "output.to_csv('submission_XGBoost.csv', index=False)"
   ]
  }
 ],
 "metadata": {
  "kaggle": {
   "accelerator": "none",
   "dataSources": [
    {
     "databundleVersionId": 26502,
     "sourceId": 3136,
     "sourceType": "competition"
    }
   ],
   "dockerImageVersionId": 30775,
   "isGpuEnabled": false,
   "isInternetEnabled": true,
   "language": "python",
   "sourceType": "notebook"
  },
  "kernelspec": {
   "display_name": "Python 3",
   "language": "python",
   "name": "python3"
  },
  "language_info": {
   "codemirror_mode": {
    "name": "ipython",
    "version": 3
   },
   "file_extension": ".py",
   "mimetype": "text/x-python",
   "name": "python",
   "nbconvert_exporter": "python",
   "pygments_lexer": "ipython3",
   "version": "3.10.14"
  },
  "papermill": {
   "default_parameters": {},
   "duration": 23.148274,
   "end_time": "2024-12-04T09:30:30.067045",
   "environment_variables": {},
   "exception": null,
   "input_path": "__notebook__.ipynb",
   "output_path": "__notebook__.ipynb",
   "parameters": {},
   "start_time": "2024-12-04T09:30:06.918771",
   "version": "2.6.0"
  }
 },
 "nbformat": 4,
 "nbformat_minor": 5
}
